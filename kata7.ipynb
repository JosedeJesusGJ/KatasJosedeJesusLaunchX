{
 "cells": [
  {
   "cell_type": "markdown",
   "metadata": {},
   "source": [
    "## Ejercicio 1: Creación de un bucle \"while\""
   ]
  },
  {
   "cell_type": "code",
   "execution_count": 8,
   "metadata": {},
   "outputs": [
    {
     "name": "stdout",
     "output_type": "stream",
     "text": [
      "Los planetas son:  ['Tierra', 'Marte', 'Venus']\n"
     ]
    }
   ],
   "source": [
    "#Definimos funcion para retornar la lista de los planetas\n",
    "def lista_Planetas():\n",
    "    \n",
    "    #Declaramos las variables\n",
    "    nuenoPlaneta = input('Ingrese el nombre de un planeta o \"salir\" para terminar: ')\n",
    "    Planetas =[]\n",
    "\n",
    "    #Asignamos bucle while\n",
    "    while nuenoPlaneta != \"salir\":\n",
    "\n",
    "        #Agregamos el planeta a la lista\n",
    "        Planetas.append(nuenoPlaneta)\n",
    "\n",
    "        #Leemos el planeta escrito por el usuario\n",
    "        nuenoPlaneta = input('Ingrese el nombre de un planeta o \"salir\" para terminar: ')\n",
    "    \n",
    "    #Retornamos la lista de los planetas\n",
    "    return Planetas\n",
    "    \n",
    "print(\"Los planetas son: \",lista_Planetas())"
   ]
  },
  {
   "cell_type": "markdown",
   "metadata": {},
   "source": [
    "## Ejercicio 2: Creación de un ciclo \"for\""
   ]
  },
  {
   "cell_type": "code",
   "execution_count": 13,
   "metadata": {},
   "outputs": [
    {
     "name": "stdout",
     "output_type": "stream",
     "text": [
      "Marte\n",
      "Tierra\n",
      "Venus\n",
      "Sol\n"
     ]
    }
   ],
   "source": [
    "#Declaramos las variables\n",
    "nuenoPlaneta = input('Ingrese el nombre de un planeta o \"salir\" para terminar: ')\n",
    "Planetas =[]\n",
    "\n",
    "#Asignamos bucle while\n",
    "while nuenoPlaneta != \"salir\":\n",
    "\n",
    "        #Agregamos el planeta a la lista\n",
    "        Planetas.append(nuenoPlaneta)\n",
    "\n",
    "        #Leemos el planeta escrito por el usuario\n",
    "        nuenoPlaneta = input('Ingrese el nombre de un planeta o \"salir\" para terminar: ')\n",
    "    \n",
    "    #Vaciamos la lista de los planetas\n",
    "for vaciarPlanetas in Planetas:\n",
    "     print(vaciarPlanetas)"
   ]
  }
 ],
 "metadata": {
  "interpreter": {
   "hash": "6e8a3c9b7f2e02b977398884ab15cdceeba0fd984289e934650045306ade2c41"
  },
  "kernelspec": {
   "display_name": "Python 3.10.2 64-bit",
   "language": "python",
   "name": "python3"
  },
  "language_info": {
   "codemirror_mode": {
    "name": "ipython",
    "version": 3
   },
   "file_extension": ".py",
   "mimetype": "text/x-python",
   "name": "python",
   "nbconvert_exporter": "python",
   "pygments_lexer": "ipython3",
   "version": "3.10.2"
  },
  "orig_nbformat": 4
 },
 "nbformat": 4,
 "nbformat_minor": 2
}
