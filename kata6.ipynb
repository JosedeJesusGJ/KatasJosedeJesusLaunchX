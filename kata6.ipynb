{
 "cells": [
  {
   "cell_type": "markdown",
   "metadata": {},
   "source": [
    "## Ejercicio 1 Crear y usar listas de Python"
   ]
  },
  {
   "cell_type": "code",
   "execution_count": 5,
   "metadata": {},
   "outputs": [
    {
     "name": "stdout",
     "output_type": "stream",
     "text": [
      "Aquí hay 8 planetas\n",
      "Aquí hay 9 planetas\n",
      "Pluton el planeta pluton es el ultimo\n"
     ]
    }
   ],
   "source": [
    "#Creamos la lista de planetas\n",
    "Planetas= ['Mercurio', 'Venus', 'Tierra', 'Marte', 'Jupiter', 'Saturno', 'Urano', 'Neptuno']\n",
    "\n",
    "print('Aquí hay', len(Planetas), 'planetas')\n",
    "\n",
    "Planetas.append('Pluton')\n",
    "print('Aquí hay', len(Planetas), 'planetas')\n",
    "\n",
    "print(Planetas[-1], 'el planeta pluton es el ultimo')"
   ]
  },
  {
   "cell_type": "markdown",
   "metadata": {},
   "source": [
    "## Ejercicio 2 Trabajando con datos de una lista"
   ]
  },
  {
   "cell_type": "code",
   "execution_count": 7,
   "metadata": {},
   "outputs": [
    {
     "name": "stdout",
     "output_type": "stream",
     "text": [
      "Planetas más cercanos al sol Tierra\n",
      "['Mercurio', 'Venus']\n",
      "Planetas más lejanos al sol Tierra\n",
      "['Marte', 'Jupiter', 'Saturno', 'Urano', 'Neptuno']\n"
     ]
    }
   ],
   "source": [
    "#Creamos la lista de planetas\n",
    "Planetas= ['Mercurio', 'Venus', 'Tierra', 'Marte', 'Jupiter', 'Saturno', 'Urano', 'Neptuno']\n",
    "\n",
    "#Pedimos un planeta\n",
    "leer_Planeta = input('Ingresa el nombre de un planeta con la primera letra en mayuscula')\n",
    "\n",
    "#Busca el planeta en la lista\n",
    "Planetas_index = Planetas.index(leer_Planeta)\n",
    "\n",
    "#Mostrar planetas cercanos al sol\n",
    "print('Planetas más cercanos al sol ' + leer_Planeta)\n",
    "print(Planetas[0:Planetas_index])\n",
    "\n",
    "# Muestra los planetas más lejanos al sol\n",
    "\n",
    "print('Planetas más lejanos al sol ' + leer_Planeta)\n",
    "print(Planetas[Planetas_index + 1:])\n"
   ]
  }
 ],
 "metadata": {
  "interpreter": {
   "hash": "6e8a3c9b7f2e02b977398884ab15cdceeba0fd984289e934650045306ade2c41"
  },
  "kernelspec": {
   "display_name": "Python 3.10.2 64-bit",
   "language": "python",
   "name": "python3"
  },
  "language_info": {
   "codemirror_mode": {
    "name": "ipython",
    "version": 3
   },
   "file_extension": ".py",
   "mimetype": "text/x-python",
   "name": "python",
   "nbconvert_exporter": "python",
   "pygments_lexer": "ipython3",
   "version": "3.10.2"
  },
  "orig_nbformat": 4
 },
 "nbformat": 4,
 "nbformat_minor": 2
}
