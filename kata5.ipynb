{
 "cells": [
  {
   "cell_type": "markdown",
   "metadata": {},
   "source": [
    "## Ejercicio 1"
   ]
  },
  {
   "cell_type": "code",
   "execution_count": 1,
   "metadata": {},
   "outputs": [
    {
     "name": "stdout",
     "output_type": "stream",
     "text": [
      "628949330\n",
      "390577533.93\n"
     ]
    }
   ],
   "source": [
    "#Definimos distancia de los planeas\n",
    "Planeta1 = 149597870\n",
    "Planeta2 = 778547200\n",
    "\n",
    "#Calculamos distancia entre planetas\n",
    "\n",
    "distanciaKm = Planeta2 - Planeta1\n",
    "print(distanciaKm)\n",
    "\n",
    "#Conversion de kilometros a millas\n",
    "distanciaMi = distanciaKm * 0.621\n",
    "print(distanciaMi)"
   ]
  },
  {
   "cell_type": "markdown",
   "metadata": {},
   "source": [
    "## Ejercicio 2"
   ]
  },
  {
   "cell_type": "code",
   "execution_count": 11,
   "metadata": {},
   "outputs": [
    {
     "name": "stdout",
     "output_type": "stream",
     "text": [
      "La distancia entre los planetas es de  -50 Km\n",
      "La distancia entre los planetas es de  -31.05 Mi\n"
     ]
    }
   ],
   "source": [
    "#Capturar distancias\n",
    "Planeta1_txt = input('Introduzca la distancia del sol para el primer planeta en KM')\n",
    "Planeta2_txt = input('Introduzca la distancia desde el sol para el segundo planeta en KM')\n",
    "\n",
    "#Convertir de cadena a entero\n",
    "Planeta1_int = int(Planeta1_txt)\n",
    "Planeta2_int = int(Planeta2_txt)\n",
    "\n",
    "#Valor Adsoluto\n",
    "Distancia_km = Planeta2_int - Planeta1_int\n",
    "print(\"La distancia entre los planetas es de \",Distancia_km,\"Km\")\n",
    "\n",
    "#Conversion de kilometros a millas\n",
    "distancia_mi = Distancia_km * 0.621\n",
    "print(\"La distancia entre los planetas es de \",distancia_mi,\"Mi\")"
   ]
  }
 ],
 "metadata": {
  "interpreter": {
   "hash": "6e8a3c9b7f2e02b977398884ab15cdceeba0fd984289e934650045306ade2c41"
  },
  "kernelspec": {
   "display_name": "Python 3.10.2 64-bit",
   "language": "python",
   "name": "python3"
  },
  "language_info": {
   "codemirror_mode": {
    "name": "ipython",
    "version": 3
   },
   "file_extension": ".py",
   "mimetype": "text/x-python",
   "name": "python",
   "nbconvert_exporter": "python",
   "pygments_lexer": "ipython3",
   "version": "3.10.2"
  },
  "orig_nbformat": 4
 },
 "nbformat": 4,
 "nbformat_minor": 2
}
