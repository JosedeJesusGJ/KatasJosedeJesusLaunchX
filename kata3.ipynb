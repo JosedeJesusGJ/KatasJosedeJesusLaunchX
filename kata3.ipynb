{
 "cells": [
  {
   "cell_type": "markdown",
   "metadata": {},
   "source": [
    "## Ejercicio 1\n",
    "Escribir declaraciones if, else, y elif"
   ]
  },
  {
   "cell_type": "code",
   "execution_count": 8,
   "metadata": {},
   "outputs": [
    {
     "name": "stdout",
     "output_type": "stream",
     "text": [
      "Peligro un asteroide\n"
     ]
    }
   ],
   "source": [
    "asteroide = 12\n",
    "if asteroide > 11:\n",
    "    print('Peligro un asteroide')\n",
    "else:\n",
    "    print('Todo bien')"
   ]
  },
  {
   "cell_type": "markdown",
   "metadata": {},
   "source": [
    "## Ejercicio 2:\n",
    "Escribir declaraciones if, else, y elif part 2"
   ]
  },
  {
   "cell_type": "code",
   "execution_count": 7,
   "metadata": {},
   "outputs": [
    {
     "name": "stdout",
     "output_type": "stream",
     "text": [
      "No hay nada\n"
     ]
    }
   ],
   "source": [
    "asteroide = 19\n",
    "if asteroide > 20:\n",
    "    print('Hay una luz mágica en el cielo')\n",
    "elif asteroide == 20:\n",
    "    print('Hay una luz mágica en el cielo')\n",
    "else:\n",
    "    print('No hay nada')"
   ]
  },
  {
   "cell_type": "markdown",
   "metadata": {},
   "source": [
    "## Ejercicio 3\n",
    "Uso de operadores and y or"
   ]
  },
  {
   "cell_type": "code",
   "execution_count": 16,
   "metadata": {},
   "outputs": [
    {
     "name": "stdout",
     "output_type": "stream",
     "text": [
      "Peligro un asteroide va a la tierra\n"
     ]
    }
   ],
   "source": [
    "velocidad_asteroide = 26\n",
    "tamano_asteroide = 26\n",
    "if velocidad_asteroide > 25 and tamano_asteroide > 25:\n",
    "    print('Peligro un asteroide va a la tierra')\n",
    "elif velocidad_asteroide >= 20:\n",
    "    print('Hay una luz mágica en el cielo')\n",
    "elif tamano_asteroide < 25:\n",
    "    print('No hay nada')\n",
    "else:\n",
    "    print('No hay nada')"
   ]
  }
 ],
 "metadata": {
  "interpreter": {
   "hash": "6e8a3c9b7f2e02b977398884ab15cdceeba0fd984289e934650045306ade2c41"
  },
  "kernelspec": {
   "display_name": "Python 3.10.2 64-bit",
   "language": "python",
   "name": "python3"
  },
  "language_info": {
   "codemirror_mode": {
    "name": "ipython",
    "version": 3
   },
   "file_extension": ".py",
   "mimetype": "text/x-python",
   "name": "python",
   "nbconvert_exporter": "python",
   "pygments_lexer": "ipython3",
   "version": "3.10.2"
  },
  "orig_nbformat": 4
 },
 "nbformat": 4,
 "nbformat_minor": 2
}
