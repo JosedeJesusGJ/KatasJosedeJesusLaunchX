{
 "cells": [
  {
   "cell_type": "markdown",
   "metadata": {},
   "source": [
    "## Ejercicio 1: Uso de funciones en Python"
   ]
  },
  {
   "cell_type": "code",
   "execution_count": 7,
   "metadata": {},
   "outputs": [
    {
     "name": "stdout",
     "output_type": "stream",
     "text": [
      "Reporte:\n",
      "    Promedio Total: 78.33333333333333%\n",
      "    Tanque 1: 80%\n",
      "    Tanque 2: 70%\n",
      "    3Tanque 3: 85% \n",
      "    \n",
      "Reporte:\n",
      "    Promedio Total: 78.0%\n",
      "    Tanque 1: 88%\n",
      "    Tanque 2: 76%\n",
      "    Tanque 3: 70% \n",
      "    \n"
     ]
    }
   ],
   "source": [
    "#Declaramos función para leer tanques\n",
    "def leer_promedio(Tanque1, Tanque2, Tanque3):\n",
    "    PromedioTanque= (Tanque1 + Tanque2 + Tanque3) / 3\n",
    "    return f\"\"\"Reporte:\n",
    "    Promedio Total: {PromedioTanque}%\n",
    "    Tanque 1: {Tanque1}%\n",
    "    Tanque 2: {Tanque2}%\n",
    "    Tanque 3: {Tanque3}% \n",
    "    \"\"\"\n",
    "\n",
    "# Llamamos a la función\n",
    "print(leer_promedio(80, 70, 85))\n",
    "\n",
    "# Función promedio \n",
    "def funPromedio(valor):\n",
    "    total = sum(valor)\n",
    "    numtanques = len(valor)\n",
    "    return total / numtanques\n",
    "\n",
    "#Probamos la función\n",
    "funPromedio([80, 85, 81]) \n",
    "\n",
    "# Actualiza la función\n",
    "def leer_promedio(Tanque1, Tanque2, Tanque3):\n",
    "    return f\"\"\"Reporte:\n",
    "    Promedio Total: {funPromedio([Tanque1, Tanque2, Tanque3])}%\n",
    "    Tanque 1: {Tanque1}%\n",
    "    Tanque 2: {Tanque2}%\n",
    "    Tanque 3: {Tanque3}% \n",
    "    \"\"\"\n",
    "\n",
    "#Mandamos a llamar la función y llenamos los datoa\n",
    "print(leer_promedio(88, 76, 70))"
   ]
  },
  {
   "cell_type": "markdown",
   "metadata": {},
   "source": [
    "## Ejercicio 2: Trabajo con argumentos de palabra clave"
   ]
  },
  {
   "cell_type": "code",
   "execution_count": 19,
   "metadata": {},
   "outputs": [
    {
     "name": "stdout",
     "output_type": "stream",
     "text": [
      "\n",
      "    Mision a Luna\n",
      "    Total de tiempo: 65 minutos\n",
      "    Combustible restante: 500000 litros\n",
      "    \n",
      "\n",
      "    Mision a Luna\n",
      "    Total de tiempo: 76 minutos\n",
      "    Combustible restante: 500000 litros\n",
      "    \n",
      "\n",
      "    Mision a Luna\n",
      "    Total de tiempo: 74 minutos\n",
      "    Combustible restante: 500000 litros\n",
      "    Tanque1 tanque --> 300000 litros restantes\n",
      "Tanque2 tanque --> 200000 litros restantes\n",
      "\n"
     ]
    }
   ],
   "source": [
    "# Función con un informe preciso de la misión. Considera hora de prelanzamiento, tiempo de vuelo, destino, tanque externo y tanque interno\n",
    "def reporteMision(prelanzamiento, tiempoVuelo, destino, Tanque1, Tanque2):\n",
    "    return f\"\"\"\n",
    "    Mision a {destino}\n",
    "    Total de tiempo: {prelanzamiento + tiempoVuelo} minutos\n",
    "    Combustible restante: {Tanque1 + Tanque2} litros\n",
    "    \"\"\"\n",
    "\n",
    "print(reporteMision(14, 51, \"Luna\", 200000, 300000))\n",
    "\n",
    "# Escribe tu nueva función de reporte considerando lo anterior\n",
    "def reporteMision(destino, *minutos, **reservaGas):\n",
    "    return f\"\"\"\n",
    "    Mision a {destino}\n",
    "    Total de tiempo: {sum(minutos)} minutos\n",
    "    Combustible restante: {sum(reservaGas.values())} litros\n",
    "    \"\"\"\n",
    "\n",
    "print(reporteMision(\"Luna\", 10, 15, 51, Tanque1=300000, Tanque2=200000))\n",
    "\n",
    "# Escribe tu nueva función\n",
    "def reporteMision(destino, *minutos, **reservaGas):\n",
    "    report = f\"\"\"\n",
    "    Mision a {destino}\n",
    "    Total de tiempo: {sum(minutos)} minutos\n",
    "    Combustible restante: {sum(reservaGas.values())} litros\n",
    "    \"\"\"\n",
    "    for nomTanque, Litros in reservaGas.items():\n",
    "        report += f\"{nomTanque} tanque --> {Litros} litros restantes\\n\"\n",
    "    return report\n",
    "\n",
    "print(reporteMision(\"Luna\", 8, 11, 55, Tanque1=300000, Tanque2=200000))"
   ]
  }
 ],
 "metadata": {
  "interpreter": {
   "hash": "6e8a3c9b7f2e02b977398884ab15cdceeba0fd984289e934650045306ade2c41"
  },
  "kernelspec": {
   "display_name": "Python 3.10.2 64-bit",
   "language": "python",
   "name": "python3"
  },
  "language_info": {
   "codemirror_mode": {
    "name": "ipython",
    "version": 3
   },
   "file_extension": ".py",
   "mimetype": "text/x-python",
   "name": "python",
   "nbconvert_exporter": "python",
   "pygments_lexer": "ipython3",
   "version": "3.10.2"
  },
  "orig_nbformat": 4
 },
 "nbformat": 4,
 "nbformat_minor": 2
}
